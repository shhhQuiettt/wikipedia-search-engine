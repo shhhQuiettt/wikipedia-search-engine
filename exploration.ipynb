{
 "cells": [
  {
   "cell_type": "markdown",
   "metadata": {},
   "source": [
    "# Some recommendations"
   ]
  },
  {
   "cell_type": "markdown",
   "metadata": {},
   "source": [
    "### 1. This session relates to **Mathematitics** and pioneers of **Calculus**"
   ]
  },
  {
   "cell_type": "code",
   "execution_count": 1,
   "metadata": {},
   "outputs": [
    {
     "name": "stdout",
     "output_type": "stream",
     "text": [
      "https://en.wikipedia.org/wiki/Leonhard_Euler\n",
      "https://en.wikipedia.org/wiki/Isaac_Newton\n",
      "https://en.wikipedia.org/wiki/Mathematics\n",
      "https://en.wikipedia.org/wiki/Functions_(mathematics)\n",
      "https://en.wikipedia.org/wiki/Real_number\n",
      "\n",
      "\n"
     ]
    }
   ],
   "source": [
    "!cat ./example_visited/previously_seen1.txt"
   ]
  },
  {
   "cell_type": "code",
   "execution_count": 2,
   "metadata": {},
   "outputs": [
    {
     "name": "stdout",
     "output_type": "stream",
     "text": [
      "https://en.wikipedia.org/wiki/Leonhard_Euler not found in the database. Calculating document vector...\n",
      "https://en.wikipedia.org/wiki/Isaac_Newton not found in the database. Calculating document vector...\n",
      "Recommended documents:\n",
      "(240, 'https://en.wikipedia.org/wiki/Hyperreal_numbers', 'Hyperreal number')\n",
      "Cosine similarity: 0.06210137608606608\n",
      "\n",
      "(258, 'https://en.wikipedia.org/wiki/Theorem', 'Theorem')\n",
      "Cosine similarity: 0.0590626066522234\n",
      "\n",
      "(79, 'https://en.wikipedia.org/wiki/Calculus', 'Calculus')\n",
      "Cosine similarity: 0.054672164284898996\n",
      "\n",
      "(322, 'https://en.wikipedia.org/wiki/Bijective', 'Bijection')\n",
      "Cosine similarity: 0.05021229255088811\n",
      "\n",
      "(184, 'https://en.wikipedia.org/wiki/Mathematical_analysis', 'Mathematical analysis')\n",
      "Cosine similarity: 0.04862576791724621\n",
      "\n"
     ]
    }
   ],
   "source": [
    "!python recommender.py 5 ./example_visited/previously_seen1.txt"
   ]
  },
  {
   "cell_type": "markdown",
   "metadata": {},
   "source": [
    "We see topics we would expect for someone interested in **Newton** and **Euler** and **Mathematics**"
   ]
  },
  {
   "cell_type": "markdown",
   "metadata": {},
   "source": [
    "### 2. This session relates sandwiches"
   ]
  },
  {
   "cell_type": "code",
   "execution_count": 3,
   "metadata": {},
   "outputs": [
    {
     "name": "stdout",
     "output_type": "stream",
     "text": [
      "https://en.wikipedia.org/wiki/Peanut_butter\n",
      "https://en.wikipedia.org/wiki/Lunch\n",
      "https://en.wikipedia.org/wiki/Sandwich\n"
     ]
    }
   ],
   "source": [
    "!cat ./example_visited/previously_seen2.txt"
   ]
  },
  {
   "cell_type": "code",
   "execution_count": 4,
   "metadata": {},
   "outputs": [
    {
     "name": "stdout",
     "output_type": "stream",
     "text": [
      "Recommended documents:\n",
      "(560, 'https://en.wikipedia.org/wiki/Bal%C4%B1k_ekmek', 'Balık ekmek')\n",
      "Cosine similarity: 0.23502137689424202\n",
      "\n",
      "(605, 'https://en.wikipedia.org/wiki/Roujiamo', 'Roujiamo')\n",
      "Cosine similarity: 0.20909613026041712\n",
      "\n",
      "(599, 'https://en.wikipedia.org/wiki/Panini_(sandwich)', 'Panini (sandwich)')\n",
      "Cosine similarity: 0.19268899828898028\n",
      "\n",
      "(583, 'https://en.wikipedia.org/wiki/Donkey_burger', 'Donkey burger')\n",
      "Cosine similarity: 0.19119226566432948\n",
      "\n",
      "(800, 'https://en.wikipedia.org/wiki/Bag_lunch', 'Packed lunch')\n",
      "Cosine similarity: 0.18548005955094318\n",
      "\n"
     ]
    }
   ],
   "source": [
    "!python recommender.py 5 ./example_visited/previously_seen2.txt"
   ]
  },
  {
   "cell_type": "markdown",
   "metadata": {},
   "source": [
    "Indeed, we see different types of sandwiches someone could be interested in"
   ]
  },
  {
   "cell_type": "markdown",
   "metadata": {
    "jukit_cell_id": "5tJdZ3c28b"
   },
   "source": [
    "# Some statistics and exploration of the results"
   ]
  },
  {
   "cell_type": "code",
   "execution_count": 5,
   "metadata": {
    "jukit_cell_id": "BKwtjaM3EH"
   },
   "outputs": [],
   "source": [
    "import matplotlib.pyplot as plt\n",
    "from indexing import SqliteInvertedIndex\n",
    "import recommender\n",
    "from recommender import jacard_similarity, cosine_similarity\n",
    "import numpy as np"
   ]
  },
  {
   "cell_type": "code",
   "execution_count": 6,
   "metadata": {
    "jukit_cell_id": "acP0eTQMOW"
   },
   "outputs": [],
   "source": [
    "inverted_index = SqliteInvertedIndex(\"inverted_index.db\")\n",
    "inverted_index_matrix = inverted_index.get_tf_idf_matrix()\n",
    "\n",
    "query = lambda query_text: inverted_index.cursor.execute(query_text)"
   ]
  },
  {
   "cell_type": "markdown",
   "metadata": {
    "jukit_cell_id": "mzdCRVc0zz"
   },
   "source": [
    "## Number of documents"
   ]
  },
  {
   "cell_type": "code",
   "execution_count": 7,
   "metadata": {
    "jukit_cell_id": "88v3KdgHkG"
   },
   "outputs": [
    {
     "data": {
      "text/plain": [
       "(1000,)"
      ]
     },
     "execution_count": 7,
     "metadata": {},
     "output_type": "execute_result"
    }
   ],
   "source": [
    "query(\"select count(*) from documents\").fetchone()"
   ]
  },
  {
   "cell_type": "markdown",
   "metadata": {
    "jukit_cell_id": "OF5gpUBFki"
   },
   "source": [
    "### Number of terms"
   ]
  },
  {
   "cell_type": "code",
   "execution_count": 8,
   "metadata": {
    "jukit_cell_id": "tlDonAt6DD"
   },
   "outputs": [
    {
     "data": {
      "text/plain": [
       "(116470,)"
      ]
     },
     "execution_count": 8,
     "metadata": {},
     "output_type": "execute_result"
    }
   ],
   "source": [
    "query(\"select count(*) from terms\").fetchone()"
   ]
  },
  {
   "cell_type": "markdown",
   "metadata": {
    "jukit_cell_id": "uDkOPumtEj"
   },
   "source": [
    "### Top 20 frequently occuring terms "
   ]
  },
  {
   "cell_type": "code",
   "execution_count": 9,
   "metadata": {
    "jukit_cell_id": "bq6KyOhPAv"
   },
   "outputs": [
    {
     "data": {
      "text/plain": [
       "[('shrew', 32304),\n",
       " ('function', 14177),\n",
       " ('retrieved', 12128),\n",
       " ('edit', 11623),\n",
       " ('space', 8069),\n",
       " ('isbn', 7562),\n",
       " ('also', 7100),\n",
       " ('archived', 6817),\n",
       " ('original', 6753),\n",
       " ('number', 6483)]"
      ]
     },
     "execution_count": 9,
     "metadata": {},
     "output_type": "execute_result"
    }
   ],
   "source": [
    "res = query(\n",
    "    \"\"\"\n",
    "    select term, sum(count) \n",
    "    from postings p \n",
    "    join terms t on p.term_id = t.id \n",
    "    group by term \n",
    "    having length(term) > 3 \n",
    "    order by sum(count) desc\n",
    "    limit 10\n",
    "            \"\"\"\n",
    ")\n",
    "res.fetchall()"
   ]
  },
  {
   "cell_type": "markdown",
   "metadata": {
    "jukit_cell_id": "29HOlidCNL"
   },
   "source": [
    "Despite weirdness of _shrew_, and manually checking, it turns out that _shrew_ __indeed is__ a frequent word in the documents related to mammals and other animals"
   ]
  },
  {
   "cell_type": "markdown",
   "metadata": {
    "jukit_cell_id": "YnwfvTmBYU"
   },
   "source": [
    "### Terms with lowest entropy"
   ]
  },
  {
   "cell_type": "code",
   "execution_count": 10,
   "metadata": {
    "jukit_cell_id": "7iVCUI0aWb"
   },
   "outputs": [
    {
     "data": {
      "text/plain": [
       "[('retrieved', 0.0),\n",
       " ('http', 0.0),\n",
       " ('1', 0.022245608947319737),\n",
       " ('reference', 0.03978087001184446),\n",
       " ('edit', 0.06935007813479324),\n",
       " ('2', 0.08773891430800689),\n",
       " ('also', 0.1266976530459575),\n",
       " ('3', 0.1636960926707897),\n",
       " ('see', 0.1779312084926618),\n",
       " ('new', 0.18632957819149354)]"
      ]
     },
     "execution_count": 10,
     "metadata": {},
     "output_type": "execute_result"
    }
   ],
   "source": [
    "query(\n",
    "    \"\"\"\n",
    "        select term, idf from terms order by idf asc limit 10\n",
    "        \"\"\"\n",
    ").fetchall()"
   ]
  },
  {
   "cell_type": "markdown",
   "metadata": {
    "jukit_cell_id": "heVO1aiSno"
   },
   "source": [
    "### Terms with highest entropy"
   ]
  },
  {
   "cell_type": "code",
   "execution_count": 11,
   "metadata": {
    "jukit_cell_id": "2pSmidhWJs"
   },
   "outputs": [
    {
     "data": {
      "text/plain": [
       "[('combable', 6.907755278982137),\n",
       " ('ℝ3', 6.907755278982137),\n",
       " ('idealizes', 6.907755278982137),\n",
       " ('meteorologically', 6.907755278982137),\n",
       " ('accomplishes', 6.907755278982137),\n",
       " ('gidea', 6.907755278982137),\n",
       " ('1584882530', 6.907755278982137),\n",
       " ('abbildung', 6.907755278982137),\n",
       " ('bormashenko', 6.907755278982137),\n",
       " ('kazachkov', 6.907755278982137)]"
      ]
     },
     "execution_count": 11,
     "metadata": {},
     "output_type": "execute_result"
    }
   ],
   "source": [
    "query(\n",
    "    \"\"\"\n",
    "  select term, idf from terms order by idf desc limit 10\n",
    "  \"\"\"\n",
    ").fetchall()"
   ]
  },
  {
   "cell_type": "markdown",
   "metadata": {
    "jukit_cell_id": "PBeq7ZpcIw"
   },
   "source": [
    "### Distribution of terms occurance among all documents"
   ]
  },
  {
   "cell_type": "code",
   "execution_count": 12,
   "metadata": {
    "jukit_cell_id": "VPxjM0s195"
   },
   "outputs": [
    {
     "data": {
      "text/plain": [
       "[<matplotlib.lines.Line2D at 0x7ff29a850690>]"
      ]
     },
     "execution_count": 12,
     "metadata": {},
     "output_type": "execute_result"
    },
    {
     "data": {
      "image/png": "[encoded data removed]",
      "text/plain": [
       "<Figure size 640x480 with 1 Axes>"
      ]
     },
     "metadata": {},
     "output_type": "display_data"
    }
   ],
   "source": [
    "res = query(\n",
    "    \"\"\"\n",
    "        select t.term, sum(p.count) \n",
    "        from terms t join postings p on t.id = p.term_id \n",
    "        group by t.term\n",
    "        order by sum(p.count) desc\n",
    "    \"\"\"\n",
    ").fetchall()\n",
    "\n",
    "plt.plot([x[1] for x in res])"
   ]
  },
  {
   "cell_type": "markdown",
   "metadata": {
    "jukit_cell_id": "Mz3pWiVxLw"
   },
   "source": [
    "### Checking if corpus fulfills Zipf's law"
   ]
  },
  {
   "cell_type": "code",
   "execution_count": 13,
   "metadata": {
    "jukit_cell_id": "ZZsb7UgsYh"
   },
   "outputs": [
    {
     "data": {
      "text/plain": [
       "<matplotlib.legend.Legend at 0x7ff29a84dbe0>"
      ]
     },
     "execution_count": 13,
     "metadata": {},
     "output_type": "execute_result"
    },
    {
     "data": {
      "image/png": "[encoded data removed]",
      "text/plain": [
       "<Figure size 640x480 with 1 Axes>"
      ]
     },
     "metadata": {},
     "output_type": "display_data"
    }
   ],
   "source": [
    "res = query(\n",
    "    \"\"\"\n",
    "    select t.term, sum(p.count)\n",
    "    from terms t join postings p on t.id = p.term_id\n",
    "    group by t.term\n",
    "    order by sum(p.count) desc\n",
    "    \"\"\"\n",
    ").fetchall()\n",
    "\n",
    "ocurrances = np.array([x[1] for x in res])\n",
    "N = len(ocurrances)\n",
    "k = ocurrances[3] / N * 4\n",
    "expected_zipf = k / np.arange(1, N + 1)\n",
    "\n",
    "cut_off = 1000\n",
    "plt.plot(ocurrances[:1000] / N)\n",
    "plt.plot(expected_zipf[:1000])\n",
    "plt.legend([\"Actual frequency\", \"Expected from Zipf's law\"])"
   ]
  },
  {
   "cell_type": "markdown",
   "metadata": {
    "jukit_cell_id": "yTfKqUqIFM"
   },
   "source": [
    "### Documents most similar to the article **Open Set**"
   ]
  },
  {
   "cell_type": "code",
   "execution_count": 14,
   "metadata": {
    "jukit_cell_id": "oyxhg3nskT"
   },
   "outputs": [
    {
     "name": "stdout",
     "output_type": "stream",
     "text": [
      "Title: Open set\n",
      "Cosine similarity: 1.0\n",
      "\n",
      "Title: Closed set\n",
      "Cosine similarity: 0.1670939050012435\n",
      "\n",
      "Title: Accumulation point\n",
      "Cosine similarity: 0.09399570728349808\n",
      "\n",
      "Title: Open and closed maps\n",
      "Cosine similarity: 0.09323925622985396\n",
      "\n",
      "Title: Open and closed maps\n",
      "Cosine similarity: 0.09323925622985396\n",
      "\n"
     ]
    }
   ],
   "source": [
    "url = \"https://en.wikipedia.org/wiki/Open_set\"\n",
    "doc_id = inverted_index.get_document_id(url)\n",
    "assert doc_id is not None\n",
    "\n",
    "doc_vector = inverted_index_matrix[doc_id, :]\n",
    "\n",
    "similarities = np.apply_along_axis(\n",
    "    lambda x: cosine_similarity(doc_vector, x), 1, inverted_index_matrix\n",
    ")\n",
    "\n",
    "top_5_similarities = np.argsort(similarities, axis=0)[-6:-1]\n",
    "\n",
    "for doc_id in top_5_similarities[::-1]:\n",
    "    res = query(\n",
    "        f\"\"\"\n",
    "        select title from documents where id = {doc_id}\n",
    "        \"\"\",\n",
    "    ).fetchone()\n",
    "    assert res is not None\n",
    "    print(f\"Title: {res[0]}\")\n",
    "    print(f\"Cosine similarity: {similarities[doc_id]}\\n\")"
   ]
  },
  {
   "cell_type": "markdown",
   "metadata": {
    "jukit_cell_id": "tfegEl31Qc"
   },
   "source": [
    "### Documents least similar document to the article **Open set**"
   ]
  },
  {
   "cell_type": "code",
   "execution_count": 15,
   "metadata": {
    "jukit_cell_id": "8LPlMdFam6"
   },
   "outputs": [
    {
     "name": "stdout",
     "output_type": "stream",
     "text": [
      "Title: Eastern forest hedgehog\n",
      "Cosine similarity: 4.099291536117715e-06\n",
      "\n",
      "Title: Chacarero\n",
      "Cosine similarity: 1.473436229790874e-05\n",
      "\n",
      "Title: Somali hedgehog\n",
      "Cosine similarity: 2.148079406048971e-05\n",
      "\n",
      "Title: Hemiechinus\n",
      "Cosine similarity: 2.2237134281189762e-05\n",
      "\n",
      "Title: Gaoligong forest hedgehog\n",
      "Cosine similarity: 2.259060627956648e-05\n",
      "\n"
     ]
    }
   ],
   "source": [
    "url = \"https://en.wikipedia.org/wiki/Open_set\"\n",
    "doc_id = inverted_index.get_document_id(url)\n",
    "assert doc_id is not None\n",
    "\n",
    "doc_vector = inverted_index_matrix[doc_id, :]\n",
    "\n",
    "similarities = np.apply_along_axis(\n",
    "    lambda x: cosine_similarity(doc_vector, x), 1, inverted_index_matrix\n",
    ")\n",
    "\n",
    "top_5_similarities = np.argsort(similarities, axis=0)[:5]\n",
    "\n",
    "for doc_id in top_5_similarities:\n",
    "    res = query(\n",
    "        f\"\"\"\n",
    "        select title from documents where id = {doc_id}\n",
    "        \"\"\",\n",
    "    ).fetchone()\n",
    "    assert res is not None\n",
    "    print(f\"Title: {res[0]}\")\n",
    "    print(f\"Cosine similarity: {similarities[doc_id]}\\n\")"
   ]
  },
  {
   "cell_type": "markdown",
   "metadata": {
    "jukit_cell_id": "5qQpK8dZFl"
   },
   "source": [
    "These results make sense, as Open Set relates to topics like *topology* and *closed sets*, while do not relate to topics like *hedgehogs* or *Chacarero*\n",
    "\n",
    "**Open Set**:\n",
    "\n",
    "![Open Set](./reports/imgs/open-set.png)\n",
    "\n",
    "**Closed Set** (similar to Open Set):\n",
    "\n",
    "![Closed Set](./reports/imgs/closed-set.png)\n",
    "\n",
    "**Eastern forest hedgehog** (not similar to Open Set):\n",
    "\n",
    "![Eastern forest hedgehog](./reports/imgs/eastern-forest-hedgehog.jpeg)"
   ]
  },
  {
   "cell_type": "markdown",
   "metadata": {
    "jukit_cell_id": "DUKR4HkT1D"
   },
   "source": [
    "# Comparing similiarities between various documents "
   ]
  },
  {
   "cell_type": "code",
   "execution_count": 16,
   "metadata": {
    "jukit_cell_id": "O3AiHggqL4"
   },
   "outputs": [],
   "source": [
    "hedghog_doc_url = \"https://en.wikipedia.org/wiki/Hedgehog\"\n",
    "hedgehog_doc_id = inverted_index.get_document_id(hedghog_doc_url)\n",
    "hedgehog_doc_vector = inverted_index_matrix[hedgehog_doc_id, :]\n",
    "assert hedgehog_doc_vector is not None\n",
    "\n",
    "calculus_doc_url = \"https://en.wikipedia.org/wiki/Calculus\"\n",
    "calculus_doc_id = inverted_index.get_document_id(calculus_doc_url)\n",
    "calculus_doc_vector = inverted_index_matrix[calculus_doc_id, :]\n",
    "assert calculus_doc_vector is not None\n",
    "\n",
    "derivatives_doc_url = \"https://en.wikipedia.org/wiki/Derivative\"\n",
    "derivatives_doc_id = inverted_index.get_document_id(derivatives_doc_url)\n",
    "derivatives_doc_vector = inverted_index_matrix[derivatives_doc_id, :]\n",
    "assert derivatives_doc_vector is not None"
   ]
  },
  {
   "cell_type": "markdown",
   "metadata": {
    "jukit_cell_id": "OJJuEbgXHQ"
   },
   "source": [
    "### Cosine similarity and Jacard similarity between hedgehog and calculus "
   ]
  },
  {
   "cell_type": "code",
   "execution_count": 17,
   "metadata": {
    "jukit_cell_id": "PASWx1dFOx"
   },
   "outputs": [
    {
     "name": "stdout",
     "output_type": "stream",
     "text": [
      "Hedgehog vs Calculus\n",
      "Cosine similarity: 0.0036931801887427344\n",
      "Jacard similarity: 0.09270638525247128\n"
     ]
    }
   ],
   "source": [
    "cosine_similarity_score = cosine_similarity(hedgehog_doc_vector, calculus_doc_vector)\n",
    "jacard_similarity_score = jacard_similarity(hedgehog_doc_vector, calculus_doc_vector)\n",
    "\n",
    "print(\"Hedgehog vs Calculus\")\n",
    "print(f\"Cosine similarity: {cosine_similarity_score}\")\n",
    "print(f\"Jacard similarity: {jacard_similarity_score}\")"
   ]
  },
  {
   "cell_type": "markdown",
   "metadata": {
    "jukit_cell_id": "fEuQuQsvN6"
   },
   "source": [
    "### Cosine similarity and Jacard similarity between calculus and derivatives"
   ]
  },
  {
   "cell_type": "code",
   "execution_count": 18,
   "metadata": {
    "jukit_cell_id": "ap4wb6WJ3s"
   },
   "outputs": [
    {
     "name": "stdout",
     "output_type": "stream",
     "text": [
      "Calculus vs Derivatives\n",
      "Cosine similarity: 0.04768521737485992\n",
      "Jacard similarity: 0.27093206951026855\n"
     ]
    }
   ],
   "source": [
    "cosine_similarity_score = cosine_similarity(calculus_doc_vector, derivatives_doc_vector)\n",
    "jacard_similarity_score = jacard_similarity(calculus_doc_vector, derivatives_doc_vector)\n",
    "print(\"Calculus vs Derivatives\")\n",
    "print(f\"Cosine similarity: {cosine_similarity_score}\")\n",
    "print(f\"Jacard similarity: {jacard_similarity_score}\")"
   ]
  },
  {
   "cell_type": "markdown",
   "metadata": {
    "jukit_cell_id": "W3JyCuLY4a"
   },
   "source": [
    "Cosine similarity between derivatives and hedgehog is almost **two order of magnitude higher** than the cosine similarity between hedgehog and calculus, what should be expected"
   ]
  },
  {
   "cell_type": "markdown",
   "metadata": {
    "jukit_cell_id": "QgJ5R7EoO4"
   },
   "source": [
    "### The results and the quality of recommender would be higher for more documents than only 1000. To increase this number, before building the DB one could change `TOTAL_PAGES` in [`build_db.py`](https://github.com/shhhQuiettt/wikipedia-search-engine/blob/main/build_db.py)"
   ]
  }
 ],
 "metadata": {
  "anaconda-cloud": {},
  "kernelspec": {
   "display_name": "Python 3 (ipykernel)",
   "language": "python",
   "name": "python3"
  },
  "language_info": {
   "codemirror_mode": {
    "name": "ipython",
    "version": 3
   },
   "file_extension": ".py",
   "mimetype": "text/x-python",
   "name": "python",
   "nbconvert_exporter": "python",
   "pygments_lexer": "ipython3",
   "version": "3.13.1"
  }
 },
 "nbformat": 4,
 "nbformat_minor": 4
}
