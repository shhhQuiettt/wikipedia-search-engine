{
  "cells": [
    {
      "cell_type": "markdown",
      "metadata": {
        "jukit_cell_id": "5tJdZ3c28b"
      },
      "source": [
        "# Some statistics and exploration of the results"
      ]
    },
    {
      "cell_type": "code",
      "metadata": {
        "jukit_cell_id": "BKwtjaM3EH"
      },
      "source": [
        "import matplotlib.pyplot as plt\n",
        "from indexing import SqliteInvertedIndex\n",
        "import recommender\n",
        "from recommender import jacard_similarity, cosine_similarity\n",
        "import numpy as np"
      ],
      "outputs": [],
      "execution_count": null
    },
    {
      "cell_type": "code",
      "metadata": {
        "jukit_cell_id": "acP0eTQMOW"
      },
      "source": [
        "inverted_index = SqliteInvertedIndex(\"inverted_index.db\")\n",
        "inverted_index_matrix = inverted_index.get_tf_idf_matrix()\n",
        "\n",
        "query = lambda query_text: inverted_index.cursor.execute(query_text)"
      ],
      "outputs": [],
      "execution_count": null
    },
    {
      "cell_type": "markdown",
      "metadata": {
        "jukit_cell_id": "mzdCRVc0zz"
      },
      "source": [
        "## Number of documents"
      ]
    },
    {
      "cell_type": "code",
      "metadata": {
        "jukit_cell_id": "88v3KdgHkG"
      },
      "source": [
        "query(\"select count(*) from documents\").fetchone()"
      ],
      "outputs": [
        {
          "output_type": "stream",
          "name": "stdout",
          "text": "\n"
        },
        {
          "output_type": "execute_result",
          "execution_count": 1,
          "data": {
            "text/plain": "(1000,)"
          },
          "metadata": {}
        }
      ],
      "execution_count": 1
    },
    {
      "cell_type": "markdown",
      "metadata": {
        "jukit_cell_id": "OF5gpUBFki"
      },
      "source": [
        "### Number of terms"
      ]
    },
    {
      "cell_type": "code",
      "metadata": {
        "jukit_cell_id": "tlDonAt6DD"
      },
      "source": [
        "query(\"select count(*) from terms\").fetchone()"
      ],
      "outputs": [
        {
          "output_type": "stream",
          "name": "stdout",
          "text": "\n"
        },
        {
          "output_type": "execute_result",
          "execution_count": 2,
          "data": {
            "text/plain": "(122442,)"
          },
          "metadata": {}
        }
      ],
      "execution_count": 2
    },
    {
      "cell_type": "markdown",
      "metadata": {
        "jukit_cell_id": "uDkOPumtEj"
      },
      "source": [
        "### Top 20 frequently occuring terms which length is greater than 3"
      ]
    },
    {
      "cell_type": "code",
      "metadata": {
        "jukit_cell_id": "bq6KyOhPAv"
      },
      "source": [
        "res = query(\n",
        "    \"\"\"\n",
        "    select term, sum(count) \n",
        "    from postings p \n",
        "    join terms t on p.term_id = t.id \n",
        "    group by term \n",
        "    having length(term) > 3 \n",
        "    order by sum(count) desc\n",
        "    limit 10\n",
        "            \"\"\"\n",
        ")\n",
        "res.fetchall()"
      ],
      "outputs": [
        {
          "output_type": "stream",
          "name": "stdout",
          "text": "\n"
        },
        {
          "output_type": "execute_result",
          "execution_count": 3,
          "data": {
            "text/plain": "[('shrew', 32304),\n ('retrieved', 12532),\n ('edit', 11249),\n ('function', 8687),\n ('group', 7340),\n ('archived', 7065),\n ('isbn', 6994),\n ('original', 6920),\n ('also', 6454),\n ('space', 5995)]"
          },
          "metadata": {}
        }
      ],
      "execution_count": 3
    },
    {
      "cell_type": "markdown",
      "metadata": {
        "jukit_cell_id": "29HOlidCNL"
      },
      "source": [
        "Despite weirdness of _shrew_, and manually checking, it turns out that _shrew_ __indeed is__ a frequent word in the documents related to mammals and other animals"
      ]
    },
    {
      "cell_type": "markdown",
      "metadata": {
        "jukit_cell_id": "YnwfvTmBYU"
      },
      "source": [
        "### Terms with lowest entropy"
      ]
    },
    {
      "cell_type": "code",
      "metadata": {
        "jukit_cell_id": "7iVCUI0aWb"
      },
      "source": [
        "query(\n",
        "    \"\"\"\n",
        "        select term, idf from terms order by idf asc limit 10\n",
        "        \"\"\"\n",
        ").fetchall()"
      ],
      "outputs": [
        {
          "output_type": "stream",
          "name": "stdout",
          "text": "\n"
        },
        {
          "output_type": "execute_result",
          "execution_count": 4,
          "data": {
            "text/plain": "[('retrieved', 0.0),\n ('http', 0.0),\n ('1', 0.027371196796131977),\n ('reference', 0.0460439385014068),\n ('edit', 0.07257069283483537),\n ('2', 0.1031407589195134),\n ('also', 0.14271630220159526),\n ('3', 0.16605458433008263),\n ('new', 0.2033409240180301),\n ('see', 0.21072103131565253)]"
          },
          "metadata": {}
        }
      ],
      "execution_count": 4
    },
    {
      "cell_type": "markdown",
      "metadata": {
        "jukit_cell_id": "heVO1aiSno"
      },
      "source": [
        "### Terms with highest entropy"
      ]
    },
    {
      "cell_type": "code",
      "metadata": {
        "jukit_cell_id": "2pSmidhWJs"
      },
      "source": [
        "query(\n",
        "    \"\"\"\n",
        "  select term, idf from terms order by idf desc limit 10\n",
        "  \"\"\"\n",
        ").fetchall()"
      ],
      "outputs": [
        {
          "output_type": "stream",
          "name": "stdout",
          "text": "\n"
        },
        {
          "output_type": "execute_result",
          "execution_count": 5,
          "data": {
            "text/plain": "[('combable', 6.907755278982137),\n ('\u211d3', 6.907755278982137),\n ('idealizes', 6.907755278982137),\n ('meteorologically', 6.907755278982137),\n ('accomplishes', 6.907755278982137),\n ('gidea', 6.907755278982137),\n ('1584882530', 6.907755278982137),\n ('abbildung', 6.907755278982137),\n ('bormashenko', 6.907755278982137),\n ('kazachkov', 6.907755278982137)]"
          },
          "metadata": {}
        }
      ],
      "execution_count": 5
    },
    {
      "cell_type": "markdown",
      "metadata": {
        "jukit_cell_id": "PBeq7ZpcIw"
      },
      "source": [
        "### Distribution of terms occurance among all documents"
      ]
    },
    {
      "cell_type": "code",
      "metadata": {
        "jukit_cell_id": "VPxjM0s195"
      },
      "source": [
        "res = query(\n",
        "    \"\"\"\n",
        "        select t.term, sum(p.count) \n",
        "        from terms t join postings p on t.id = p.term_id \n",
        "        group by t.term\n",
        "        order by sum(p.count) desc\n",
        "    \"\"\"\n",
        ").fetchall()\n",
        "\n",
        "plt.plot([x[1] for x in res])"
      ],
      "outputs": [
        {
          "output_type": "stream",
          "name": "stdout",
          "text": "\n"
        },
        {
          "data": {
            "image/png": "[encoded data removed]"
          },
          "metadata": {},
          "output_type": "display_data"
        },
        {
          "output_type": "stream",
          "name": "stdout",
          "text": "\n"
        },
        {
          "output_type": "execute_result",
          "execution_count": 6,
          "data": {
            "text/plain": "[<matplotlib.lines.Line2D at 0x75866c559280>]"
          },
          "metadata": {}
        }
      ],
      "execution_count": 6
    },
    {
      "cell_type": "markdown",
      "metadata": {
        "jukit_cell_id": "Mz3pWiVxLw"
      },
      "source": [
        "### Checking if corpus fulfills Zipf's law"
      ]
    },
    {
      "cell_type": "code",
      "metadata": {
        "jukit_cell_id": "ZZsb7UgsYh"
      },
      "source": [
        "res = query(\n",
        "    \"\"\"\n",
        "    select t.term, sum(p.count)\n",
        "    from terms t join postings p on t.id = p.term_id\n",
        "    group by t.term\n",
        "    order by sum(p.count) desc\n",
        "    \"\"\"\n",
        ").fetchall()\n",
        "\n",
        "ocurrances = np.array([x[1] for x in res])\n",
        "N = len(ocurrances)\n",
        "k = ocurrances[3] / N * 4\n",
        "expected_zipf = k / np.arange(1, N + 1)\n",
        "\n",
        "cut_off = 1000\n",
        "plt.plot(ocurrances[:1000] / N)\n",
        "plt.plot(expected_zipf[:1000])\n",
        "plt.legend([\"Actual frequency\", \"Expected from Zipf's law\"])"
      ],
      "outputs": [
        {
          "output_type": "stream",
          "name": "stdout",
          "text": "\n"
        },
        {
          "data": {
            "image/png": "[encoded data removed]"
          },
          "metadata": {},
          "output_type": "display_data"
        },
        {
          "output_type": "stream",
          "name": "stdout",
          "text": "\n"
        },
        {
          "output_type": "execute_result",
          "execution_count": 7,
          "data": {
            "text/plain": "<matplotlib.legend.Legend at 0x758653cfa300>"
          },
          "metadata": {}
        }
      ],
      "execution_count": 7
    },
    {
      "cell_type": "markdown",
      "metadata": {
        "jukit_cell_id": "yTfKqUqIFM"
      },
      "source": [
        "### Document most similar to **Open set**"
      ]
    },
    {
      "cell_type": "code",
      "metadata": {
        "jukit_cell_id": "oyxhg3nskT"
      },
      "source": [
        "url = \"https://en.wikipedia.org/wiki/Open_set\"\n",
        "doc_id = inverted_index.get_document_id(url)\n",
        "assert doc_id is not None\n",
        "\n",
        "doc_vector = inverted_index_matrix[doc_id, :]\n",
        "\n",
        "similarities = np.apply_along_axis(\n",
        "    lambda x: cosine_similarity(doc_vector, x), 1, inverted_index_matrix\n",
        ")\n",
        "\n",
        "top_5_similarities = np.argsort(similarities, axis=0)[-6:-1]\n",
        "\n",
        "for doc_id in top_5_similarities[::-1]:\n",
        "    res = query(\n",
        "        f\"\"\"\n",
        "        select title from documents where id = {doc_id}\n",
        "        \"\"\",\n",
        "    ).fetchone()\n",
        "    assert res is not None\n",
        "    print(f\"Title: {res[0]}\")\n",
        "    print(f\"Cosine similarity: {similarities[doc_id]}\\n\")"
      ],
      "outputs": [
        {
          "output_type": "stream",
          "name": "stdout",
          "text": "Title: Closed set\nCosine similarity: 0.12982074519573655\n\nTitle: List of general topology topics\nCosine similarity: 0.10075506192466094\n\nTitle: General topology\nCosine similarity: 0.0913297495773876\n\nTitle: Interior (topology)\nCosine similarity: 0.08036750831064099\n\nTitle: Tychonoff's theorem\nCosine similarity: 0.07766889983377978\n\n"
        }
      ],
      "execution_count": 8
    },
    {
      "cell_type": "markdown",
      "metadata": {
        "jukit_cell_id": "tfegEl31Qc"
      },
      "source": [
        "### Least similar document to **Open set**"
      ]
    },
    {
      "cell_type": "code",
      "metadata": {
        "jukit_cell_id": "8LPlMdFam6"
      },
      "source": [
        "url = \"https://en.wikipedia.org/wiki/Open_set\"\n",
        "doc_id = inverted_index.get_document_id(url)\n",
        "assert doc_id is not None\n",
        "\n",
        "doc_vector = inverted_index_matrix[doc_id, :]\n",
        "\n",
        "similarities = np.apply_along_axis(\n",
        "    lambda x: cosine_similarity(doc_vector, x), 1, inverted_index_matrix\n",
        ")\n",
        "\n",
        "top_5_similarities = np.argsort(similarities, axis=0)[:5]\n",
        "\n",
        "for doc_id in top_5_similarities:\n",
        "    res = query(\n",
        "        f\"\"\"\n",
        "        select title from documents where id = {doc_id}\n",
        "        \"\"\",\n",
        "    ).fetchone()\n",
        "    assert res is not None\n",
        "    print(f\"Title: {res[0]}\")\n",
        "    print(f\"Cosine similarity: {similarities[doc_id]}\\n\")"
      ],
      "outputs": [
        {
          "output_type": "stream",
          "name": "stdout",
          "text": "Title: Eastern forest hedgehog\nCosine similarity: 4.78492613074056e-06\n\nTitle: Hermann K\u00fcnneth\nCosine similarity: 6.591637626777496e-06\n\nTitle: Hemiechinus\nCosine similarity: 2.0191558735474507e-05\n\nTitle: Bare-bellied hedgehog\nCosine similarity: 2.1494319426508554e-05\n\nTitle: Chacarero\nCosine similarity: 2.3582096255755227e-05\n\n"
        }
      ],
      "execution_count": 9
    },
    {
      "cell_type": "markdown",
      "metadata": {
        "jukit_cell_id": "5qQpK8dZFl"
      },
      "source": [
        "These results make sense, as Open Set relates to topics like *topology* and *closed sets*, while do not relate to topics like *hedgehogs* or *Chacarero*\n",
        "\n",
        "Open Set:\n",
        "![Open Set](./reports/imgs/open-set.png)\n",
        "\n",
        "Closed Set (similar):\n",
        "![Closed Set](./reports/imgs/closed-set.png)\n",
        "\n",
        "Eastern forest hedgehog (not similar):\n",
        "![Eastern forest hedgehog](\"./reports/imgs/eastern-forest-hedgehog.jpeg\")"
      ]
    },
    {
      "cell_type": "markdown",
      "metadata": {
        "jukit_cell_id": "DUKR4HkT1D"
      },
      "source": [
        "## Comparing similiarities between various documents "
      ]
    },
    {
      "cell_type": "code",
      "metadata": {
        "jukit_cell_id": "O3AiHggqL4"
      },
      "source": [
        "hedghog_doc_url = \"https://en.wikipedia.org/wiki/Hedgehog\"\n",
        "hedgehog_doc_id = inverted_index.get_document_id(hedghog_doc_url)\n",
        "hedgehog_doc_vector = inverted_index_matrix[hedgehog_doc_id, :]\n",
        "assert hedgehog_doc_vector is not None\n",
        "\n",
        "calculus_doc_url = \"https://en.wikipedia.org/wiki/Calculus\"\n",
        "calculus_doc_id = inverted_index.get_document_id(calculus_doc_url)\n",
        "calculus_doc_vector = inverted_index_matrix[calculus_doc_id, :]\n",
        "assert calculus_doc_vector is not None\n",
        "\n",
        "derivatives_doc_url = \"https://en.wikipedia.org/wiki/Derivative\"\n",
        "derivatives_doc_id = inverted_index.get_document_id(derivatives_doc_url)\n",
        "derivatives_doc_vector = inverted_index_matrix[derivatives_doc_id, :]\n",
        "assert derivatives_doc_vector is not None"
      ],
      "outputs": [],
      "execution_count": null
    },
    {
      "cell_type": "markdown",
      "metadata": {
        "jukit_cell_id": "OJJuEbgXHQ"
      },
      "source": [
        "### Cosine similarity and Jacard similarity between hedgehog and calculus "
      ]
    },
    {
      "cell_type": "code",
      "metadata": {
        "jukit_cell_id": "PASWx1dFOx"
      },
      "source": [
        "cosine_similarity_score = cosine_similarity(hedgehog_doc_vector, calculus_doc_vector)\n",
        "jacard_similarity_score = jacard_similarity(hedgehog_doc_vector, calculus_doc_vector)\n",
        "\n",
        "print(\"Hedgehog vs Calculus\")\n",
        "print(f\"Cosine similarity: {cosine_similarity_score}\")\n",
        "print(f\"Jacard similarity: {jacard_similarity_score}\")"
      ],
      "outputs": [
        {
          "output_type": "stream",
          "name": "stdout",
          "text": "Hedgehog vs Calculus\nCosine similarity: 0.0032115008392753935\nJacard similarity: 0.09222133119486768\n"
        }
      ],
      "execution_count": 10
    },
    {
      "cell_type": "markdown",
      "metadata": {
        "jukit_cell_id": "fEuQuQsvN6"
      },
      "source": [
        "### Cosine similarity and Jacard similarity between calculus and derivatives"
      ]
    },
    {
      "cell_type": "code",
      "metadata": {
        "jukit_cell_id": "ap4wb6WJ3s"
      },
      "source": [
        "cosine_similarity_score = cosine_similarity(calculus_doc_vector, derivatives_doc_vector)\n",
        "jacard_similarity_score = jacard_similarity(calculus_doc_vector, derivatives_doc_vector)\n",
        "print(\"Calculus vs Derivatives\")\n",
        "print(f\"Cosine similarity: {cosine_similarity_score}\")\n",
        "print(f\"Jacard similarity: {jacard_similarity_score}\")"
      ],
      "outputs": [
        {
          "output_type": "stream",
          "name": "stdout",
          "text": "Calculus vs Derivatives\nCosine similarity: 0.05259067161188228\nJacard similarity: 0.27006722024515617\n"
        }
      ],
      "execution_count": 11
    },
    {
      "cell_type": "markdown",
      "metadata": {
        "jukit_cell_id": "W3JyCuLY4a"
      },
      "source": [
        "Cosine similarity between derivatives and hedgehog is almost **two order of magnitude higher** than the cosine similarity between hedgehog and calculus, what should be expected"
      ]
    },
    {
      "cell_type": "code",
      "metadata": {
        "jukit_cell_id": "QgJ5R7EoO4"
      },
      "source": [],
      "outputs": [],
      "execution_count": null
    }
  ],
  "metadata": {
    "anaconda-cloud": {},
    "kernelspec": {
      "display_name": "python",
      "language": "python",
      "name": "python3"
    }
  },
  "nbformat": 4,
  "nbformat_minor": 4
}